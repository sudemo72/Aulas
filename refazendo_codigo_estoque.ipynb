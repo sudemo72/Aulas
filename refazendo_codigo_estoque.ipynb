{
  "nbformat": 4,
  "nbformat_minor": 0,
  "metadata": {
    "colab": {
      "provenance": [],
      "authorship_tag": "ABX9TyOMLS/MqsCQxeFRXeg6J0MS",
      "include_colab_link": true
    },
    "kernelspec": {
      "name": "python3",
      "display_name": "Python 3"
    },
    "language_info": {
      "name": "python"
    }
  },
  "cells": [
    {
      "cell_type": "markdown",
      "metadata": {
        "id": "view-in-github",
        "colab_type": "text"
      },
      "source": [
        "<a href=\"https://colab.research.google.com/github/sudemo72/Aulas/blob/main/refazendo_codigo_estoque.ipynb\" target=\"_parent\"><img src=\"https://colab.research.google.com/assets/colab-badge.svg\" alt=\"Open In Colab\"/></a>"
      ]
    },
    {
      "cell_type": "markdown",
      "source": [],
      "metadata": {
        "id": "tcxuc5yytgv9"
      }
    },
    {
      "cell_type": "code",
      "source": [
        "produtos = {}\n",
        "class Produto():\n",
        "  def __init__(self, nomeprod, precoprod , quantidade):\n",
        "    self.nomeprod = nomeprod\n",
        "    self.precoprod = precoprod\n",
        "    self.quantidade = quantidade\n",
        "# \"add_produto\" tem como objetivo salvar o nome e preço\n",
        "#  no dicionario produtos, fazendo a tratativa de\n",
        "# erro caso for digitado algo que não seja numeros ao preço:\n",
        "\n",
        "  def add_prod(self, produtos): \n",
        "   if isinstance(self.precoprod, (int, float)) and isinstance(self.quantidade, (int, float)):\n",
        "      produtos[self.nomeprod]=self.precoprod, self.quantidade\n",
        "###############################################################################################\n",
        "# Essa linha precisa ser corrigida, preciso estudar mais como usar um dicionario dentro de outro\n",
        "###############################################################################################\n",
        "      print(f'\\n O produto {self.nomeprod} de {self.precoprod} com a quantidade {self.quantidade}esta na lista:)\\n')\n",
        "    else:\n",
        "      print('\\nDigite apenas numeros para o preço do produto\\n')    \n",
        "# A função alterar consulta o nome do produto caso exista no dicionario\n",
        "# o exclui e adiciona um novo produto com as mesma tratativas de erros\n",
        "\n",
        "  def alterar(self):\n",
        "    nomeprod=input(\"\\n Digite o nome produto que deseja alterar\\n\")\n",
        "\n",
        "    if nomeprod in produtos:\n",
        "      produtos.pop[nomeprod]\n",
        "      novoprod=input('\\n DIgite o novo nome do produto que deseja alterar\\n')\n",
        "      novopreco=input('\\n Digite o novo preço \\n')\n",
        "      if isinstance(self.precoprod, int, float):  \n",
        "        self.nomeprod = novoprod\n",
        "        self.precoprod = novopreco\n",
        "        self.add_prod(produtos)\n",
        "      else:\n",
        "        print('\\nDigite apenas numeros para o preço do produto\\n')\n",
        "    \n",
        "# A função listar, lista todos os elementos no contido no dicionario\n",
        "\n",
        "  def listar(self):\n",
        "    for _ in produtos:\n",
        "      print(_)\n",
        "\n",
        "\n",
        "\n",
        "\n",
        "\"\"\"while True:\n",
        "    sel_menu = int(input('''Digite o número referente ao menu desejado:\n",
        "    1 - Adicionar produto\n",
        "    2 - Remover produto\n",
        "    3 - Listar produtos\n",
        "    4 - Alterar um produto\n",
        "    5 - Excluir todos os produtos\n",
        "    6 - Verificar itens com poucas unidades\n",
        "    7 - Sair\n",
        "    '''))\n",
        "\"\"\"\n",
        "    "
      ],
      "metadata": {
        "id": "GUm0_jERtg8T"
      },
      "execution_count": null,
      "outputs": []
    },
    {
      "cell_type": "code",
      "source": [],
      "metadata": {
        "id": "AzQ3_h-SCjTq"
      },
      "execution_count": null,
      "outputs": []
    }
  ]
}
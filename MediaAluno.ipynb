{
  "nbformat": 4,
  "nbformat_minor": 0,
  "metadata": {
    "colab": {
      "provenance": []
    },
    "kernelspec": {
      "name": "python3",
      "display_name": "Python 3"
    },
    "language_info": {
      "name": "python"
    }
  },
  "cells": [
    {
      "cell_type": "code",
      "execution_count": 19,
      "metadata": {
        "colab": {
          "base_uri": "https://localhost:8080/"
        },
        "id": "iL40YxUv7ivt",
        "outputId": "aab0968f-4820-4e15-d157-f824418d3577"
      },
      "outputs": [
        {
          "output_type": "stream",
          "name": "stdout",
          "text": [
            "########### Bem Vindos --- Portal de Alunos ################ \n",
            "\n",
            "Digite suas 3 notas pra saber sua media\n",
            "\n",
            "\n",
            "Digite a Primeira nota\n",
            "5\n",
            "\n",
            "Digite a Segunda nota\n",
            "3\n",
            "\n",
            "Digite a Terceira nota\n",
            " 10\n",
            "\n",
            "Sua Media esta Baixa Você esta em Recuperação sua nota é: \n",
            "6.00\n"
          ]
        }
      ],
      "source": [
        "print(\"########### Bem Vindos --- Portal de Alunos ################ \" )\n",
        "print(\"\\nDigite suas 3 notas pra saber sua media\\n\")\n",
        "n1 = float(input(\"\\nDigite a Primeira nota\\n\"))\n",
        "n2 = float(input(\"\\nDigite a Segunda nota\\n\"))\n",
        "n3 = float(input(\"\\nDigite a Terceira nota\\n \"))\n",
        "result = (n1+n2+n3)/3\n",
        "if result >=7:\n",
        "  print(f\"\\nParabens Você foi aprovado, sua media é: \\n{result:.2f}\")\n",
        "elif result >=4:\n",
        "  print(f\"\\nSua Media esta Baixa Você esta em Recuperação sua nota é: \\n{result:.2f}\")\n",
        "else:\n",
        "  print(f\"Você Foi Reprovado sua nota foi :\\n{result:.2f}\") "
      ]
    },
    {
      "cell_type": "code",
      "source": [],
      "metadata": {
        "id": "W3Zk9U7vKTZo"
      },
      "execution_count": null,
      "outputs": []
    },
    {
      "cell_type": "code",
      "source": [],
      "metadata": {
        "id": "lwrgdmstKrOu"
      },
      "execution_count": null,
      "outputs": []
    },
    {
      "cell_type": "code",
      "source": [],
      "metadata": {
        "id": "MCt8wq3YKrfV"
      },
      "execution_count": null,
      "outputs": []
    }
  ]
}
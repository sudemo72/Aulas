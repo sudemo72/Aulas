{
  "nbformat": 4,
  "nbformat_minor": 0,
  "metadata": {
    "colab": {
      "provenance": [],
      "authorship_tag": "ABX9TyMVFQbIxjjfoDzZ+iB+57xg",
      "include_colab_link": true
    },
    "kernelspec": {
      "name": "python3",
      "display_name": "Python 3"
    },
    "language_info": {
      "name": "python"
    }
  },
  "cells": [
    {
      "cell_type": "markdown",
      "metadata": {
        "id": "view-in-github",
        "colab_type": "text"
      },
      "source": [
        "<a href=\"https://colab.research.google.com/github/sudemo72/aula-2/blob/main/Untitled11.ipynb\" target=\"_parent\"><img src=\"https://colab.research.google.com/assets/colab-badge.svg\" alt=\"Open In Colab\"/></a>"
      ]
    },
    {
      "cell_type": "code",
      "execution_count": 2,
      "metadata": {
        "id": "7qoteHV0Eslm"
      },
      "outputs": [],
      "source": [
        "def soma ():\n",
        "  n1 = 10 \n",
        "  n2 = 25\n",
        "  total = n1+n2\n",
        "  print(total)"
      ]
    },
    {
      "cell_type": "code",
      "source": [
        "soma ()"
      ],
      "metadata": {
        "colab": {
          "base_uri": "https://localhost:8080/"
        },
        "id": "Tl_EdODlJb2U",
        "outputId": "fa36a2c6-4285-41c2-b887-247ef60079c6"
      },
      "execution_count": 3,
      "outputs": [
        {
          "output_type": "stream",
          "name": "stdout",
          "text": [
            "35\n"
          ]
        }
      ]
    },
    {
      "cell_type": "code",
      "source": [
        "def soma1 (n1,n2):\n",
        "  total = n1+n2\n",
        "  print(total)"
      ],
      "metadata": {
        "id": "YtscJlVgKt0i"
      },
      "execution_count": 4,
      "outputs": []
    },
    {
      "cell_type": "code",
      "source": [
        "soma1(10,5)"
      ],
      "metadata": {
        "colab": {
          "base_uri": "https://localhost:8080/"
        },
        "id": "FuKPxG-lLFfl",
        "outputId": "87ce9aec-cab1-4696-81ac-5116ef55f95d"
      },
      "execution_count": 8,
      "outputs": [
        {
          "output_type": "stream",
          "name": "stdout",
          "text": [
            "15\n"
          ]
        }
      ]
    },
    {
      "cell_type": "code",
      "source": [
        "def maior_valor(valores):\n",
        "  return max(valores)\n",
        "def capturar_numeros():\n",
        "  lista_numeros = []\n",
        "  while True:\n",
        "    numero = int(input('\\ninforme um numero inteiro e zero para sair :\\n'))\n",
        "    if numero == 0:\n",
        "      break\n",
        "    lista_numeros.append(numero)\n",
        "  print(f'\\no maior numero add na lista foi:{maior_valor(lista_numeros)} \\n')\n",
        "  \n",
        "capturar_numeros()"
      ],
      "metadata": {
        "colab": {
          "base_uri": "https://localhost:8080/"
        },
        "id": "Y1MRX2-aND_6",
        "outputId": "df149cd3-c65c-4d57-e671-6610a10538a5"
      },
      "execution_count": 15,
      "outputs": [
        {
          "output_type": "stream",
          "name": "stdout",
          "text": [
            "\n",
            "informe um numero inteiro e zero para sair :\n",
            "5\n",
            "\n",
            "informe um numero inteiro e zero para sair :\n",
            "4\n",
            "\n",
            "informe um numero inteiro e zero para sair :\n",
            "2\n",
            "\n",
            "informe um numero inteiro e zero para sair :\n",
            "0\n",
            "\n",
            "o maior numero add na lista foi:5 \n",
            "\n"
          ]
        }
      ]
    },
    {
      "cell_type": "code",
      "source": [
        "taxa_de_juros= 1.2/100\n",
        "def calc1(n1,n2):\n",
        "  total = n1+n2\n",
        "  total*=taxa_de_juros\n",
        "  print(f'calculo 1 :{total}')\n",
        "def calc2(n1):\n",
        "  total = 0\n",
        "  for valor in n1:\n",
        "    total+=valor\n",
        "  total+=total*taxa_de_juros\n",
        "  print(f'calculo 2:{total}')\n",
        "calc1(10,2)\n",
        "calc2(20)"
      ],
      "metadata": {
        "colab": {
          "base_uri": "https://localhost:8080/",
          "height": 354
        },
        "id": "3wY2GfswUfBp",
        "outputId": "bb98b176-a329-43e4-8a88-c679944231bf"
      },
      "execution_count": 23,
      "outputs": [
        {
          "output_type": "stream",
          "name": "stdout",
          "text": [
            "calculo 1 :0.14400000000000002\n"
          ]
        },
        {
          "output_type": "error",
          "ename": "TypeError",
          "evalue": "ignored",
          "traceback": [
            "\u001b[0;31m---------------------------------------------------------------------------\u001b[0m",
            "\u001b[0;31mTypeError\u001b[0m                                 Traceback (most recent call last)",
            "\u001b[0;32m<ipython-input-23-79af88230a59>\u001b[0m in \u001b[0;36m<cell line: 13>\u001b[0;34m()\u001b[0m\n\u001b[1;32m     11\u001b[0m   \u001b[0mprint\u001b[0m\u001b[0;34m(\u001b[0m\u001b[0;34mf'calculo 2:{total}'\u001b[0m\u001b[0;34m)\u001b[0m\u001b[0;34m\u001b[0m\u001b[0;34m\u001b[0m\u001b[0m\n\u001b[1;32m     12\u001b[0m \u001b[0mcalc1\u001b[0m\u001b[0;34m(\u001b[0m\u001b[0;36m10\u001b[0m\u001b[0;34m,\u001b[0m\u001b[0;36m2\u001b[0m\u001b[0;34m)\u001b[0m\u001b[0;34m\u001b[0m\u001b[0;34m\u001b[0m\u001b[0m\n\u001b[0;32m---> 13\u001b[0;31m \u001b[0mcalc2\u001b[0m\u001b[0;34m(\u001b[0m\u001b[0;36m20\u001b[0m\u001b[0;34m)\u001b[0m\u001b[0;34m\u001b[0m\u001b[0;34m\u001b[0m\u001b[0m\n\u001b[0m",
            "\u001b[0;32m<ipython-input-23-79af88230a59>\u001b[0m in \u001b[0;36mcalc2\u001b[0;34m(n1)\u001b[0m\n\u001b[1;32m      6\u001b[0m \u001b[0;32mdef\u001b[0m \u001b[0mcalc2\u001b[0m\u001b[0;34m(\u001b[0m\u001b[0mn1\u001b[0m\u001b[0;34m)\u001b[0m\u001b[0;34m:\u001b[0m\u001b[0;34m\u001b[0m\u001b[0;34m\u001b[0m\u001b[0m\n\u001b[1;32m      7\u001b[0m   \u001b[0mtotal\u001b[0m \u001b[0;34m=\u001b[0m \u001b[0;36m0\u001b[0m\u001b[0;34m\u001b[0m\u001b[0;34m\u001b[0m\u001b[0m\n\u001b[0;32m----> 8\u001b[0;31m   \u001b[0;32mfor\u001b[0m \u001b[0mvalor\u001b[0m \u001b[0;32min\u001b[0m \u001b[0mn1\u001b[0m\u001b[0;34m:\u001b[0m\u001b[0;34m\u001b[0m\u001b[0;34m\u001b[0m\u001b[0m\n\u001b[0m\u001b[1;32m      9\u001b[0m     \u001b[0mtotal\u001b[0m\u001b[0;34m+=\u001b[0m\u001b[0mvalor\u001b[0m\u001b[0;34m\u001b[0m\u001b[0;34m\u001b[0m\u001b[0m\n\u001b[1;32m     10\u001b[0m   \u001b[0mtotal\u001b[0m\u001b[0;34m+=\u001b[0m\u001b[0mtotal\u001b[0m\u001b[0;34m*\u001b[0m\u001b[0mtaxa_de_juros\u001b[0m\u001b[0;34m\u001b[0m\u001b[0;34m\u001b[0m\u001b[0m\n",
            "\u001b[0;31mTypeError\u001b[0m: 'int' object is not iterable"
          ]
        }
      ]
    },
    {
      "cell_type": "code",
      "source": [
        "def soma3(*valores):\n",
        "  total = 0 \n",
        "  for valor in valores:\n",
        "    total+=valor \n",
        "    "
      ],
      "metadata": {
        "id": "CupwTX8EWyQy"
      },
      "execution_count": 24,
      "outputs": []
    },
    {
      "cell_type": "code",
      "source": [
        "import numpy as np \n",
        "class Lista_ordenada:\n",
        "  def __init__(self, capacidade):\n",
        "      self.capacidade = capacidade \n",
        "      self.ultima_poisicao = -1\n",
        "      self.valores=np.empty(self.capacidade, dtype = int)\n",
        "\n",
        "      #0(n)\n",
        "      def imprime(self):\n",
        "        if self.ultima_posicao == -1:\n",
        "          print('o vetor esta vazio')\n",
        "        else:\n",
        "          for i in range(self.ultima_posicao + 1 ):\n",
        "            print(i, ' - ',self.valores[i])\n",
        "      def insere(self, valor):\n",
        "          if self.ultima_poisicao == self.capacidade - 1:\n",
        "            print('capacidade maxima atingida')\n",
        "            return\n",
        "          posicao=0\n",
        "          for i in range(self.ultima_posicao):\n",
        "            posicao = i\n",
        "            if self.valores[i] > valor:\n",
        "              break\n",
        "            x=self.ultima_posicao\n",
        "            while x>=posicao:\n",
        "              self.valores[x+1] = self.valores\n",
        "              x=-1\n",
        "            self.valores[posicao]= valor\n",
        "            self.ultima_posicao +=1\n",
        "\n",
        "\n"
      ],
      "metadata": {
        "id": "Sdvrzd5OcNw5"
      },
      "execution_count": 27,
      "outputs": []
    }
  ]
}
{
  "nbformat": 4,
  "nbformat_minor": 0,
  "metadata": {
    "colab": {
      "provenance": [],
      "authorship_tag": "ABX9TyPs9W4WOjIheH6kl17yh6MW",
      "include_colab_link": true
    },
    "kernelspec": {
      "name": "python3",
      "display_name": "Python 3"
    },
    "language_info": {
      "name": "python"
    }
  },
  "cells": [
    {
      "cell_type": "markdown",
      "metadata": {
        "id": "view-in-github",
        "colab_type": "text"
      },
      "source": [
        "<a href=\"https://colab.research.google.com/github/sudemo72/aula-2/blob/main/Untitled3.ipynb\" target=\"_parent\"><img src=\"https://colab.research.google.com/assets/colab-badge.svg\" alt=\"Open In Colab\"/></a>"
      ]
    },
    {
      "cell_type": "code",
      "execution_count": null,
      "metadata": {
        "colab": {
          "base_uri": "https://localhost:8080/"
        },
        "id": "wg84w_wDEFX9",
        "outputId": "d295637c-53cd-48c2-81c1-4459750e4ffe"
      },
      "outputs": [
        {
          "output_type": "stream",
          "name": "stdout",
          "text": [
            "Rodrigo\n",
            "Nay\n",
            "Valdir\n",
            "Rosy\n",
            "Maria\n"
          ]
        }
      ],
      "source": [
        "lista=('Rodrigo','Nay','Valdir','Rosy','Maria')\n",
        "for aluno in lista:\n",
        "  print(aluno)\n",
        "  "
      ]
    },
    {
      "cell_type": "code",
      "source": [
        "for caracter in \"Python\":\n",
        "  print(caracter)"
      ],
      "metadata": {
        "colab": {
          "base_uri": "https://localhost:8080/"
        },
        "id": "-1QKQ7plGz6M",
        "outputId": "e5562f24-bd65-4f87-d663-e72dbaf8a7b8"
      },
      "execution_count": null,
      "outputs": [
        {
          "output_type": "stream",
          "name": "stdout",
          "text": [
            "P\n",
            "y\n",
            "t\n",
            "h\n",
            "o\n",
            "n\n"
          ]
        }
      ]
    },
    {
      "cell_type": "code",
      "source": [
        "for c in range (1,10,2):\n",
        "  print(c)"
      ],
      "metadata": {
        "colab": {
          "base_uri": "https://localhost:8080/"
        },
        "id": "zplneX8zHsay",
        "outputId": "4a3b80c4-4ce8-447b-e3c5-06d9226f7729"
      },
      "execution_count": null,
      "outputs": [
        {
          "output_type": "stream",
          "name": "stdout",
          "text": [
            "1\n",
            "3\n",
            "5\n",
            "7\n",
            "9\n"
          ]
        }
      ]
    },
    {
      "cell_type": "code",
      "source": [
        "list = []\n",
        "while True:\n",
        "  nome = input('Digite: ')\n",
        "  if \n",
        "  "
      ],
      "metadata": {
        "id": "lYhfQ4pjGz_r"
      },
      "execution_count": null,
      "outputs": []
    },
    {
      "cell_type": "code",
      "source": [
        "help('append')"
      ],
      "metadata": {
        "colab": {
          "base_uri": "https://localhost:8080/"
        },
        "id": "8D1HDXepPA6S",
        "outputId": "d5897a22-dabe-4511-fddf-95d25c31033d"
      },
      "execution_count": null,
      "outputs": [
        {
          "output_type": "stream",
          "name": "stdout",
          "text": [
            "No Python documentation found for 'append'.\n",
            "Use help() to get the interactive help utility.\n",
            "Use help(str) for help on the str class.\n",
            "\n"
          ]
        }
      ]
    },
    {
      "cell_type": "code",
      "source": [
        "sala=[]\n",
        "acao=0\n",
        "while True:\n",
        "  \n",
        "  aluno = int(input('''\\nInforme o nome do aluno\\n1-Para adciopnar um aluno\\n2-Para excluir um aluno\\n3-Para atualizar o aluno\\n4-Para ver a lista de aluno\\n'''))\n",
        "  if acao == 1:\n",
        "    lista = input(\"Informe o nome do Aluno\")\n",
        "    sala.append(aluno)\n",
        "  elif acao == 2:\n",
        "    aluno = input(\"\\nInforme o aluno que deseja excluir!\\n\")\n",
        "    if aluno in sala:\n",
        "      aluno_x = sala.index(aluno)\n",
        "      sala.pop(aluno_x)\n",
        "      print(f'\\n{aluno}excluido(a) com sucesso.\\n')\n",
        "    else :\n",
        "      print('\\naluno não esta cadastrado.\\n')\n",
        "  elif acao == 3:\n",
        "    aluno = input('\\nInforme o nome do aluno que deseja atualizar\\n')\n",
        "    if aluno  in sala:\n",
        "      aluno_x = sala.index(aluno)\n",
        "      sala.pop(aluno_x)\n",
        "      aluno = input('\\ninforme o nome do aluno:\\n')\n",
        "      sala.append(aluno)\n",
        "      print(f'\\n{aluno} Foi adcionado com sucesso.\\n')\n",
        "      sala.sort()\n",
        "  else:\n",
        "    print('\\nO aluno não esta cadastrado!\\n')\n",
        "  elif aluno == 4:\n",
        "    print(sala)\n",
        "  elif aluno == 5:\n",
        "        break\n",
        "  else:\n",
        "    print(\"Opção inválida.\")\n",
        "\n",
        "\n"
      ],
      "metadata": {
        "id": "q2uXxshkRck6"
      },
      "execution_count": null,
      "outputs": []
    },
    {
      "cell_type": "code",
      "source": [
        "#Criando uma lista\n",
        "nome = 'Detergente'\n",
        "print(len(nome))\n",
        "\n"
      ],
      "metadata": {
        "id": "iCMIjWEX0qkL"
      },
      "execution_count": null,
      "outputs": []
    },
    {
      "cell_type": "code",
      "source": [
        "#Criando uma lista\n",
        "nome = 'Detergente'\n",
        "print(nome[0:10])\n"
      ],
      "metadata": {
        "colab": {
          "base_uri": "https://localhost:8080/"
        },
        "id": "Qb71TiPsOyc0",
        "outputId": "053fac2a-b5a6-4de0-bf99-13d814bb0ca2"
      },
      "execution_count": 36,
      "outputs": [
        {
          "output_type": "stream",
          "name": "stdout",
          "text": [
            "Detergente\n"
          ]
        }
      ]
    }
  ]
}